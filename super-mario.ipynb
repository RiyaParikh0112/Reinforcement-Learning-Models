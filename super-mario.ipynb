{
 "cells": [
  {
   "cell_type": "markdown",
   "id": "59d2e90c",
   "metadata": {
    "papermill": {
     "duration": 0.003138,
     "end_time": "2023-04-07T09:39:53.831043",
     "exception": false,
     "start_time": "2023-04-07T09:39:53.827905",
     "status": "completed"
    },
    "tags": []
   },
   "source": [
    "# Setup Requirements \n",
    "1. OpenAI Gym Super-Mario (play mario in python)\n",
    "2. Nes-py (build a virtual joypad)\n",
    "3. OpenAI Gym"
   ]
  },
  {
   "cell_type": "code",
   "execution_count": 1,
   "id": "fc911edf",
   "metadata": {
    "execution": {
     "iopub.execute_input": "2023-04-07T09:39:53.838796Z",
     "iopub.status.busy": "2023-04-07T09:39:53.837610Z",
     "iopub.status.idle": "2023-04-07T09:40:18.467317Z",
     "shell.execute_reply": "2023-04-07T09:40:18.466145Z"
    },
    "papermill": {
     "duration": 24.636461,
     "end_time": "2023-04-07T09:40:18.470177",
     "exception": false,
     "start_time": "2023-04-07T09:39:53.833716",
     "status": "completed"
    },
    "tags": []
   },
   "outputs": [
    {
     "name": "stdout",
     "output_type": "stream",
     "text": [
      "Collecting gym_super_mario_bros==7.3.0\r\n",
      "  Downloading gym_super_mario_bros-7.3.0-py2.py3-none-any.whl (198 kB)\r\n",
      "\u001b[2K     \u001b[90m━━━━━━━━━━━━━━━━━━━━━━━━━━━━━━━━━━━━━━━\u001b[0m \u001b[32m198.6/198.6 kB\u001b[0m \u001b[31m2.9 MB/s\u001b[0m eta \u001b[36m0:00:00\u001b[0m\r\n",
      "\u001b[?25hCollecting nes_py\r\n",
      "  Downloading nes_py-8.2.1.tar.gz (77 kB)\r\n",
      "\u001b[2K     \u001b[90m━━━━━━━━━━━━━━━━━━━━━━━━━━━━━━━━━━━━━━━━\u001b[0m \u001b[32m77.7/77.7 kB\u001b[0m \u001b[31m5.6 MB/s\u001b[0m eta \u001b[36m0:00:00\u001b[0m\r\n",
      "\u001b[?25h  Preparing metadata (setup.py) ... \u001b[?25l-\b \bdone\r\n",
      "\u001b[?25hRequirement already satisfied: gym>=0.17.2 in /opt/conda/lib/python3.7/site-packages (from nes_py) (0.23.1)\r\n",
      "Requirement already satisfied: numpy>=1.18.5 in /opt/conda/lib/python3.7/site-packages (from nes_py) (1.21.6)\r\n",
      "Collecting pyglet<=1.5.21,>=1.4.0\r\n",
      "  Downloading pyglet-1.5.21-py3-none-any.whl (1.1 MB)\r\n",
      "\u001b[2K     \u001b[90m━━━━━━━━━━━━━━━━━━━━━━━━━━━━━━━━━━━━━━━━\u001b[0m \u001b[32m1.1/1.1 MB\u001b[0m \u001b[31m16.2 MB/s\u001b[0m eta \u001b[36m0:00:00\u001b[0m\r\n",
      "\u001b[?25hRequirement already satisfied: tqdm>=4.48.2 in /opt/conda/lib/python3.7/site-packages (from nes_py) (4.64.1)\r\n",
      "Requirement already satisfied: cloudpickle>=1.2.0 in /opt/conda/lib/python3.7/site-packages (from gym>=0.17.2->nes_py) (2.2.1)\r\n",
      "Requirement already satisfied: importlib-metadata>=4.10.0 in /opt/conda/lib/python3.7/site-packages (from gym>=0.17.2->nes_py) (4.11.4)\r\n",
      "Requirement already satisfied: gym-notices>=0.0.4 in /opt/conda/lib/python3.7/site-packages (from gym>=0.17.2->nes_py) (0.0.8)\r\n",
      "Requirement already satisfied: typing-extensions>=3.6.4 in /opt/conda/lib/python3.7/site-packages (from importlib-metadata>=4.10.0->gym>=0.17.2->nes_py) (4.4.0)\r\n",
      "Requirement already satisfied: zipp>=0.5 in /opt/conda/lib/python3.7/site-packages (from importlib-metadata>=4.10.0->gym>=0.17.2->nes_py) (3.11.0)\r\n",
      "Building wheels for collected packages: nes_py\r\n",
      "  Building wheel for nes_py (setup.py) ... \u001b[?25l-\b \b\\\b \b|\b \b/\b \b-\b \b\\\b \b|\b \b/\b \b-\b \b\\\b \b|\b \b/\b \b-\b \b\\\b \b|\b \bdone\r\n",
      "\u001b[?25h  Created wheel for nes_py: filename=nes_py-8.2.1-cp37-cp37m-linux_x86_64.whl size=495271 sha256=2d9e3c2a4bbdbb9a10440e88e085b5c1b0d6fae5a03c9999cb118753d28759e8\r\n",
      "  Stored in directory: /root/.cache/pip/wheels/c6/a6/d3/c24e758e26198736838b719d8d1493bdd4701a4de56cf9cfbf\r\n",
      "Successfully built nes_py\r\n",
      "Installing collected packages: pyglet, nes_py, gym_super_mario_bros\r\n",
      "Successfully installed gym_super_mario_bros-7.3.0 nes_py-8.2.1 pyglet-1.5.21\r\n",
      "\u001b[33mWARNING: Running pip as the 'root' user can result in broken permissions and conflicting behaviour with the system package manager. It is recommended to use a virtual environment instead: https://pip.pypa.io/warnings/venv\u001b[0m\u001b[33m\r\n",
      "\u001b[0m"
     ]
    }
   ],
   "source": [
    "!pip install gym_super_mario_bros==7.3.0 nes_py"
   ]
  },
  {
   "cell_type": "code",
   "execution_count": 2,
   "id": "5a808b8c",
   "metadata": {
    "execution": {
     "iopub.execute_input": "2023-04-07T09:40:18.481040Z",
     "iopub.status.busy": "2023-04-07T09:40:18.480129Z",
     "iopub.status.idle": "2023-04-07T09:40:19.300523Z",
     "shell.execute_reply": "2023-04-07T09:40:19.299271Z"
    },
    "papermill": {
     "duration": 0.828891,
     "end_time": "2023-04-07T09:40:19.303383",
     "exception": false,
     "start_time": "2023-04-07T09:40:18.474492",
     "status": "completed"
    },
    "tags": []
   },
   "outputs": [],
   "source": [
    "#import the game\n",
    "import gym_super_mario_bros\n",
    "\n",
    "#importing the Joypad wrapper\n",
    "from nes_py.wrappers import JoypadSpace\n",
    "\n",
    "#import the simplified controls\n",
    "from gym_super_mario_bros.actions import SIMPLE_MOVEMENT\n"
   ]
  },
  {
   "cell_type": "code",
   "execution_count": null,
   "id": "c44ece25",
   "metadata": {
    "papermill": {
     "duration": 0.00379,
     "end_time": "2023-04-07T09:40:19.311516",
     "exception": false,
     "start_time": "2023-04-07T09:40:19.307726",
     "status": "completed"
    },
    "tags": []
   },
   "outputs": [],
   "source": []
  }
 ],
 "metadata": {
  "kernelspec": {
   "display_name": "Python 3",
   "language": "python",
   "name": "python3"
  },
  "language_info": {
   "codemirror_mode": {
    "name": "ipython",
    "version": 3
   },
   "file_extension": ".py",
   "mimetype": "text/x-python",
   "name": "python",
   "nbconvert_exporter": "python",
   "pygments_lexer": "ipython3",
   "version": "3.7.12"
  },
  "papermill": {
   "default_parameters": {},
   "duration": 35.718236,
   "end_time": "2023-04-07T09:40:20.037416",
   "environment_variables": {},
   "exception": null,
   "input_path": "__notebook__.ipynb",
   "output_path": "__notebook__.ipynb",
   "parameters": {},
   "start_time": "2023-04-07T09:39:44.319180",
   "version": "2.4.0"
  }
 },
 "nbformat": 4,
 "nbformat_minor": 5
}
