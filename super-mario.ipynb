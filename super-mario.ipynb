{
 "cells": [
  {
   "cell_type": "markdown",
   "id": "d47881d8",
   "metadata": {
    "papermill": {
     "duration": 0.002347,
     "end_time": "2023-04-07T09:36:47.347520",
     "exception": false,
     "start_time": "2023-04-07T09:36:47.345173",
     "status": "completed"
    },
    "tags": []
   },
   "source": [
    "# Setup Requirements \n",
    "1. OpenAI Gym Super-Mario\n",
    "2. Nes-py (build a virtual joypad)\n",
    "3. OpenAI Gym"
   ]
  },
  {
   "cell_type": "code",
   "execution_count": null,
   "id": "104e9fb5",
   "metadata": {
    "papermill": {
     "duration": 0.001447,
     "end_time": "2023-04-07T09:36:47.350571",
     "exception": false,
     "start_time": "2023-04-07T09:36:47.349124",
     "status": "completed"
    },
    "tags": []
   },
   "outputs": [],
   "source": []
  }
 ],
 "metadata": {
  "kernelspec": {
   "display_name": "Python 3",
   "language": "python",
   "name": "python3"
  },
  "language_info": {
   "codemirror_mode": {
    "name": "ipython",
    "version": 3
   },
   "file_extension": ".py",
   "mimetype": "text/x-python",
   "name": "python",
   "nbconvert_exporter": "python",
   "pygments_lexer": "ipython3",
   "version": "3.7.12"
  },
  "papermill": {
   "default_parameters": {},
   "duration": 10.880623,
   "end_time": "2023-04-07T09:36:48.076330",
   "environment_variables": {},
   "exception": null,
   "input_path": "__notebook__.ipynb",
   "output_path": "__notebook__.ipynb",
   "parameters": {},
   "start_time": "2023-04-07T09:36:37.195707",
   "version": "2.4.0"
  }
 },
 "nbformat": 4,
 "nbformat_minor": 5
}
